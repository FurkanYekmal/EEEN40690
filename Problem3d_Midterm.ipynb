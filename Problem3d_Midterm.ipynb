{
 "cells": [
  {
   "cell_type": "code",
   "execution_count": 11,
   "id": "ad65d6fc",
   "metadata": {},
   "outputs": [
    {
     "name": "stdout",
     "output_type": "stream",
     "text": [
      "The expectation value of the X0Y1Z2 gate is -0.002\n",
      "The expectation value of the Y0Y1Y2 gate is 0.036\n",
      "The expectation value of the Z0Z1X2 gate is -0.028\n",
      "\n",
      "The Pauli strings transformed to the Z-basis are:\n",
      "X0Y1Z2 -> Z0I1I2\n",
      "Y0Y1Y2 -> Z0I1I2\n",
      "Z0Z1X2 -> Z0I1I2\n"
     ]
    }
   ],
   "source": [
    "import cirq\n",
    "import numpy as np\n",
    "\n",
    "# the qubits\n",
    "qubits = [cirq.GridQubit(0, i) for i in range(3)]\n",
    "\n",
    "# the state\n",
    "state = [1, 0, 0]  # Example state: |100>\n",
    "\n",
    "# the Pauli strings\n",
    "pauli_strings = [\"X0Y1Z2\", \"Y0Y1Y2\", \"Z0Z1X2\"]\n",
    "\n",
    "# the expectation values\n",
    "for pauli_string in pauli_strings:\n",
    "  # Define the quantum circuit\n",
    "  circuit = cirq.Circuit()\n",
    "\n",
    "  # Transform the first qubit to Z\n",
    "  circuit.append(cirq.H(qubits[0]))\n",
    "\n",
    "  for i, s in enumerate(state):\n",
    "    if s == 1:\n",
    "      # Only apply X gate to initialize |1> state if not the first qubit\n",
    "      if i != 0:\n",
    "        circuit.append(cirq.X(qubits[i]))\n",
    "\n",
    "  # Introduce the upside-down CNOT gate between qubits 0 and 1\n",
    "  circuit.append(cirq.H(qubits[0]))  # Hadamard on control qubit\n",
    "  circuit.append(cirq.CNOT(qubits[0], qubits[1]))  # CNOT with control first\n",
    "  circuit.append(cirq.H(qubits[1]))  # Hadamard on target qubit\n",
    "\n",
    "  for i in range(0, len(pauli_string), 2):\n",
    "    gate = pauli_string[i]\n",
    "    qubit_index = int(pauli_string[i+1])\n",
    "    if qubit_index == 0:\n",
    "      # No need to transform the first qubit further\n",
    "      pass\n",
    "    else:\n",
    "      # Apply Identity for other qubits\n",
    "      circuit.append(cirq.I(qubits[qubit_index]))\n",
    "\n",
    "  # Add the measurement to the circuit\n",
    "  circuit.append(cirq.measure(*qubits, key='result'))\n",
    "\n",
    "  # Simulate the circuit\n",
    "  simulator = cirq.Simulator()\n",
    "  result = simulator.run(circuit, repetitions=1000)\n",
    "\n",
    "  # the expectation value\n",
    "  expectation_value = np.mean([(-1)**sum(b) for b in result.measurements['result']])\n",
    "\n",
    "  print(f\"The expectation value of the {pauli_string} gate is {expectation_value}\")\n",
    "\n",
    "# Transform the Pauli strings to the Z-basis (this part remains unchanged)\n",
    "z_basis_pauli_strings = [pauli_string.replace('X0', 'Z0').replace('Y0', 'Z0').replace('Y1', 'I1').replace('Y2', 'I2').replace('Z2','I2').replace('Z1','I1').replace('X2','I2')\n",
    "                          for pauli_string in pauli_strings]\n",
    "\n",
    "print(\"\\nThe Pauli strings transformed to the Z-basis are:\")\n",
    "for original, transformed in zip(pauli_strings, z_basis_pauli_strings):\n",
    "  print(f\"{original} -> {transformed}\")\n"
   ]
  },
  {
   "cell_type": "code",
   "execution_count": null,
   "id": "81a1ccb0",
   "metadata": {},
   "outputs": [],
   "source": []
  },
  {
   "cell_type": "code",
   "execution_count": null,
   "id": "c8a60988",
   "metadata": {},
   "outputs": [],
   "source": []
  },
  {
   "cell_type": "code",
   "execution_count": null,
   "id": "53e94b8e",
   "metadata": {},
   "outputs": [],
   "source": []
  }
 ],
 "metadata": {
  "kernelspec": {
   "display_name": "Python 3 (ipykernel)",
   "language": "python",
   "name": "python3"
  },
  "language_info": {
   "codemirror_mode": {
    "name": "ipython",
    "version": 3
   },
   "file_extension": ".py",
   "mimetype": "text/x-python",
   "name": "python",
   "nbconvert_exporter": "python",
   "pygments_lexer": "ipython3",
   "version": "3.11.5"
  }
 },
 "nbformat": 4,
 "nbformat_minor": 5
}
