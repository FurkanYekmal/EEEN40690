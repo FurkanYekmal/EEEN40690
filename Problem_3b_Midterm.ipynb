{
 "cells": [
  {
   "cell_type": "code",
   "execution_count": 2,
   "id": "508e0f4d",
   "metadata": {},
   "outputs": [
    {
     "name": "stdout",
     "output_type": "stream",
     "text": [
      "The expectation value of the X0Y1Z2 gate is -0.026\n",
      "The expectation value of the Y0Y1Y2 gate is 0.014\n",
      "The expectation value of the Z0Z1X2 gate is -0.036\n",
      "\n",
      "The Pauli strings transformed to the Z-basis are:\n",
      "X0Y1Z2 -> Z0I1I2\n",
      "Y0Y1Y2 -> Z0I1I2\n",
      "Z0Z1X2 -> Z0I1I2\n"
     ]
    }
   ],
   "source": [
    "import cirq\n",
    "import numpy as np\n",
    "\n",
    "# the qubits\n",
    "qubits = [cirq.GridQubit(0, i) for i in range(3)]\n",
    "\n",
    "# the state\n",
    "state = [1, 0, 0]  # Example state: |100>\n",
    "\n",
    "# the Pauli strings\n",
    "pauli_strings = [\"X0Y1Z2\", \"Y0Y1Y2\", \"Z0Z1X2\"]\n",
    "\n",
    "# the expectation values\n",
    "for pauli_string in pauli_strings:\n",
    "   # Define the quantum circuit\n",
    "   circuit = cirq.Circuit()\n",
    "\n",
    "   # Transform the first qubit to Z\n",
    "   circuit.append(cirq.H(qubits[0]))\n",
    "\n",
    "   for i, s in enumerate(state):\n",
    "       if s == 1:\n",
    "           # Only apply X gate to initialize |1> state if not the first qubit\n",
    "           if i != 0:\n",
    "               circuit.append(cirq.X(qubits[i]))\n",
    "\n",
    "   for i in range(0, len(pauli_string), 2):\n",
    "       gate = pauli_string[i]\n",
    "       qubit_index = int(pauli_string[i+1])\n",
    "       if qubit_index == 0:\n",
    "           # No need to transform the first qubit further\n",
    "           pass\n",
    "       else:\n",
    "           # Apply Identity for other qubits\n",
    "           circuit.append(cirq.I(qubits[qubit_index]))\n",
    "\n",
    "   # Add the measurement to the circuit\n",
    "   circuit.append(cirq.measure(*qubits, key='result'))\n",
    "\n",
    "   # Simulate the circuit\n",
    "   simulator = cirq.Simulator()\n",
    "   result = simulator.run(circuit, repetitions=1000)\n",
    "\n",
    "   # the expectation value\n",
    "   expectation_value = np.mean([(-1)**sum(b) for b in result.measurements['result']])\n",
    "\n",
    "   print(f\"The expectation value of the {pauli_string} gate is {expectation_value}\")\n",
    "\n",
    "# Transform the Pauli strings to the Z-basis (this part remains unchanged)\n",
    "z_basis_pauli_strings = [\n",
    "   pauli_string.replace('X0', 'Z0').replace('Y0', 'Z0').replace('Y1', 'I1').replace('Y2', 'I2').replace('Z2', 'I2').replace('Z1', 'I1').replace('X2', 'I2')\n",
    "   for pauli_string in pauli_strings\n",
    "]\n",
    "\n",
    "print(\"\\nThe Pauli strings transformed to the Z-basis are:\")\n",
    "for original, transformed in zip(pauli_strings, z_basis_pauli_strings):\n",
    "   print(f\"{original} -> {transformed}\")\n"
   ]
  },
  {
   "cell_type": "code",
   "execution_count": 4,
   "id": "6e95b6cd",
   "metadata": {},
   "outputs": [
    {
     "name": "stdout",
     "output_type": "stream",
     "text": [
      "[[ 0.+0.j  0.+0.j  0.+0.j  0.+0.j  0.+0.j  0.+0.j  0.-1.j  0.+0.j]\n",
      " [ 0.+0.j -0.+0.j  0.+0.j  0.+0.j  0.+0.j -0.+0.j  0.+0.j  0.+1.j]\n",
      " [ 0.+0.j  0.+0.j  0.+0.j  0.+0.j  0.+1.j  0.+0.j  0.+0.j  0.+0.j]\n",
      " [ 0.+0.j -0.+0.j  0.+0.j -0.+0.j  0.+0.j -0.-1.j  0.+0.j -0.+0.j]\n",
      " [ 0.+0.j  0.+0.j  0.-1.j  0.+0.j  0.+0.j  0.+0.j  0.+0.j  0.+0.j]\n",
      " [ 0.+0.j -0.+0.j  0.+0.j  0.+1.j  0.+0.j -0.+0.j  0.+0.j  0.+0.j]\n",
      " [ 0.+1.j  0.+0.j  0.+0.j  0.+0.j  0.+0.j  0.+0.j  0.+0.j  0.+0.j]\n",
      " [ 0.+0.j -0.-1.j  0.+0.j -0.+0.j  0.+0.j -0.+0.j  0.+0.j -0.+0.j]]\n",
      "[[ 0.+0.j  0.-0.j  0.+0.j -0.+0.j  0.+0.j -0.+0.j -0.+0.j  0.+1.j]\n",
      " [ 0.+0.j  0.+0.j  0.+0.j  0.+0.j  0.+0.j  0.+0.j -0.-1.j -0.+0.j]\n",
      " [ 0.+0.j  0.-0.j  0.+0.j  0.-0.j  0.+0.j -0.-1.j  0.+0.j -0.+0.j]\n",
      " [ 0.+0.j  0.+0.j  0.+0.j  0.+0.j  0.+1.j  0.+0.j  0.+0.j  0.+0.j]\n",
      " [ 0.+0.j  0.-0.j  0.+0.j -0.-1.j  0.+0.j  0.-0.j  0.+0.j -0.+0.j]\n",
      " [ 0.+0.j  0.+0.j  0.+1.j  0.+0.j  0.+0.j  0.+0.j  0.+0.j  0.+0.j]\n",
      " [-0.+0.j  0.+1.j  0.+0.j  0.-0.j  0.+0.j  0.-0.j  0.+0.j  0.-0.j]\n",
      " [-0.-1.j -0.+0.j  0.+0.j  0.+0.j  0.+0.j  0.+0.j  0.+0.j  0.+0.j]]\n",
      "[[ 0  1  0  0  0  0  0  0]\n",
      " [ 1  0  0  0  0  0  0  0]\n",
      " [ 0  0  0 -1  0  0  0  0]\n",
      " [ 0  0 -1  0  0  0  0  0]\n",
      " [ 0  0  0  0  0 -1  0  0]\n",
      " [ 0  0  0  0 -1  0  0  0]\n",
      " [ 0  0  0  0  0  0  0  1]\n",
      " [ 0  0  0  0  0  0  1  0]]\n"
     ]
    }
   ],
   "source": [
    "# Pauli X gate\n",
    "X = np.array([[0, 1], [1, 0]])\n",
    "# Pauli Y gate\n",
    "Y = np.array([[0, -1j], [1j, 0]])\n",
    "# Pauli Z gate\n",
    "Z = np.array([[1, 0], [0, -1]])\n",
    "# Identity gate\n",
    "I = np.array([[1, 0], [0, 1]])\n",
    "\n",
    "a = np.kron(X,Y)\n",
    "b = np.kron(a,Z)\n",
    "c = np.kron(Y,Y)\n",
    "d = np.kron(c,Y)\n",
    "e = np.kron(Z,Z)\n",
    "f = np.kron(e,X)\n",
    "\n",
    "print(b)\n",
    "print(d)\n",
    "print(f)"
   ]
  },
  {
   "cell_type": "code",
   "execution_count": 8,
   "id": "a45759a8",
   "metadata": {},
   "outputs": [
    {
     "name": "stdout",
     "output_type": "stream",
     "text": [
      "The expectation value of Hamiltonian b is 0j\n",
      "The expectation value of Hamiltonian d is 0j\n",
      "The expectation value of Hamiltonian f is 0\n"
     ]
    }
   ],
   "source": [
    "# Define the state vector\n",
    "psi = np.array([0, 0, 0, 0, 0, 0, 0, 0])\n",
    "\n",
    "# Calculate the expectation values\n",
    "expectation_b = np.dot(psi.conj().T, np.dot(b, psi))\n",
    "expectation_d = np.dot(psi.conj().T, np.dot(d, psi))\n",
    "expectation_f = np.dot(psi.conj().T, np.dot(f, psi))\n",
    "\n",
    "# Print the expectation values\n",
    "print(f\"The expectation value of Hamiltonian b is {expectation_b}\")\n",
    "print(f\"The expectation value of Hamiltonian d is {expectation_d}\")\n",
    "print(f\"The expectation value of Hamiltonian f is {expectation_f}\")"
   ]
  },
  {
   "cell_type": "code",
   "execution_count": null,
   "id": "011f5f56",
   "metadata": {},
   "outputs": [],
   "source": []
  }
 ],
 "metadata": {
  "kernelspec": {
   "display_name": "Python 3 (ipykernel)",
   "language": "python",
   "name": "python3"
  },
  "language_info": {
   "codemirror_mode": {
    "name": "ipython",
    "version": 3
   },
   "file_extension": ".py",
   "mimetype": "text/x-python",
   "name": "python",
   "nbconvert_exporter": "python",
   "pygments_lexer": "ipython3",
   "version": "3.11.5"
  }
 },
 "nbformat": 4,
 "nbformat_minor": 5
}
