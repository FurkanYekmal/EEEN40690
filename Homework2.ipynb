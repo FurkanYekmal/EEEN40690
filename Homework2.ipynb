{
 "cells": [
  {
   "cell_type": "code",
   "execution_count": 164,
   "id": "abf9889a",
   "metadata": {},
   "outputs": [
    {
     "name": "stdout",
     "output_type": "stream",
     "text": [
      "0: ───@───H───────\n",
      "      │\n",
      "1: ───X───@───H───\n",
      "          │\n",
      "2: ───────X───H───\n"
     ]
    }
   ],
   "source": [
    "import cirq\n",
    "\n",
    "# Create a circuit with 3 qubits\n",
    "q0, q1, q2 = cirq.LineQubit.range(3)\n",
    "circuit = cirq.Circuit()\n",
    "\n",
    "# Encode an approximation of the input state using CNOTs\n",
    "circuit.append(cirq.CNOT(q0, q1))\n",
    "circuit.append(cirq.CNOT(q1, q2))\n",
    "\n",
    "# Apply Hadamard gates to create superposition on all qubits (moved to the end)\n",
    "circuit.append(cirq.H(q0))\n",
    "circuit.append(cirq.H(q1))\n",
    "circuit.append(cirq.H(q2))\n",
    "\n",
    "# Print the circuit\n",
    "print(circuit)\n"
   ]
  },
  {
   "cell_type": "code",
   "execution_count": 165,
   "id": "e2d98e3b",
   "metadata": {},
   "outputs": [
    {
     "name": "stdout",
     "output_type": "stream",
     "text": [
      "[[0.12499999+0.j 0.12499999+0.j 0.12499999+0.j 0.12499999+0.j\n",
      "  0.12499999+0.j 0.12499999+0.j 0.12499999+0.j 0.12499999+0.j]\n",
      " [0.12499999+0.j 0.12499999+0.j 0.12499999+0.j 0.12499999+0.j\n",
      "  0.12499999+0.j 0.12499999+0.j 0.12499999+0.j 0.12499999+0.j]\n",
      " [0.12499999+0.j 0.12499999+0.j 0.12499999+0.j 0.12499999+0.j\n",
      "  0.12499999+0.j 0.12499999+0.j 0.12499999+0.j 0.12499999+0.j]\n",
      " [0.12499999+0.j 0.12499999+0.j 0.12499999+0.j 0.12499999+0.j\n",
      "  0.12499999+0.j 0.12499999+0.j 0.12499999+0.j 0.12499999+0.j]\n",
      " [0.12499999+0.j 0.12499999+0.j 0.12499999+0.j 0.12499999+0.j\n",
      "  0.12499999+0.j 0.12499999+0.j 0.12499999+0.j 0.12499999+0.j]\n",
      " [0.12499999+0.j 0.12499999+0.j 0.12499999+0.j 0.12499999+0.j\n",
      "  0.12499999+0.j 0.12499999+0.j 0.12499999+0.j 0.12499999+0.j]\n",
      " [0.12499999+0.j 0.12499999+0.j 0.12499999+0.j 0.12499999+0.j\n",
      "  0.12499999+0.j 0.12499999+0.j 0.12499999+0.j 0.12499999+0.j]\n",
      " [0.12499999+0.j 0.12499999+0.j 0.12499999+0.j 0.12499999+0.j\n",
      "  0.12499999+0.j 0.12499999+0.j 0.12499999+0.j 0.12499999+0.j]]\n"
     ]
    }
   ],
   "source": [
    "# Use the DensityMatrixSimulator for mixed state simulation\n",
    "simulator = cirq.DensityMatrixSimulator()\n",
    "results = simulator.simulate(circuit)\n",
    "\n",
    "# Get the final density matrix\n",
    "final_density_matrix = results.final_density_matrix\n",
    "\n",
    "# Print the density matrix\n",
    "print(final_density_matrix)"
   ]
  },
  {
   "cell_type": "code",
   "execution_count": 166,
   "id": "f4429ec3",
   "metadata": {},
   "outputs": [
    {
     "name": "stdout",
     "output_type": "stream",
     "text": [
      "0j\n"
     ]
    }
   ],
   "source": [
    "import numpy as np\n",
    "\n",
    "# Define the Z operator for the first qubit\n",
    "Z = np.array([[1, 0], [0, -1]])\n",
    "I = np.eye(2)\n",
    "Z_first_qubit = np.kron(Z, np.kron(I, I))\n",
    "\n",
    "# Calculate the expected value\n",
    "expected_value = np.trace(final_density_matrix @ Z_first_qubit)\n",
    "\n",
    "print(expected_value)\n"
   ]
  },
  {
   "cell_type": "code",
   "execution_count": 167,
   "id": "45ea4dac",
   "metadata": {},
   "outputs": [
    {
     "name": "stdout",
     "output_type": "stream",
     "text": [
      "[[[[0.24999997+0.j 0.24999997+0.j]\n",
      "   [0.24999997+0.j 0.24999997+0.j]]\n",
      "\n",
      "  [[0.24999997+0.j 0.24999997+0.j]\n",
      "   [0.24999997+0.j 0.24999997+0.j]]]\n",
      "\n",
      "\n",
      " [[[0.24999997+0.j 0.24999997+0.j]\n",
      "   [0.24999997+0.j 0.24999997+0.j]]\n",
      "\n",
      "  [[0.24999997+0.j 0.24999997+0.j]\n",
      "   [0.24999997+0.j 0.24999997+0.j]]]]\n"
     ]
    }
   ],
   "source": [
    "# Calculate the reduced density matrix for qubit 1 by tracing out qubits 2 and 3\n",
    "reduced1 = np.trace(final_density_matrix.reshape(2, 2, 2, 2, 2, 2), axis1=1, axis2=3)\n",
    "\n",
    "# Print the reduced density matrix for qubit 1\n",
    "print(reduced1)"
   ]
  },
  {
   "cell_type": "code",
   "execution_count": 168,
   "id": "4da6d673",
   "metadata": {},
   "outputs": [
    {
     "name": "stdout",
     "output_type": "stream",
     "text": [
      "[[ 0.49999994+0.j -0.49999994+0.j]\n",
      " [ 0.49999994+0.j -0.49999994+0.j]]\n"
     ]
    }
   ],
   "source": [
    "# Define the Z operator for a single qubit\n",
    "Z = np.array([[1, 0], [0, -1]])\n",
    "\n",
    "# Calculate the expected value\n",
    "expected_value = np.trace(reduced1 @ Z)\n",
    "\n",
    "print(expected_value)"
   ]
  },
  {
   "cell_type": "code",
   "execution_count": 169,
   "id": "f87042ae",
   "metadata": {},
   "outputs": [
    {
     "name": "stdout",
     "output_type": "stream",
     "text": [
      "[[[[0.24999997+0.j 0.24999997+0.j]\n",
      "   [0.24999997+0.j 0.24999997+0.j]]\n",
      "\n",
      "  [[0.24999997+0.j 0.24999997+0.j]\n",
      "   [0.24999997+0.j 0.24999997+0.j]]]\n",
      "\n",
      "\n",
      " [[[0.24999997+0.j 0.24999997+0.j]\n",
      "   [0.24999997+0.j 0.24999997+0.j]]\n",
      "\n",
      "  [[0.24999997+0.j 0.24999997+0.j]\n",
      "   [0.24999997+0.j 0.24999997+0.j]]]]\n"
     ]
    }
   ],
   "source": [
    "# Calculate the reduced density matrix for qubit 1 by tracing out qubits 2 and 3\n",
    "reduced3 = np.trace(final_density_matrix.reshape(2, 2, 2, 2, 2, 2), axis1=0, axis2=2)\n",
    "\n",
    "# Print the reduced density matrix for qubit 1\n",
    "print(reduced3)"
   ]
  },
  {
   "cell_type": "code",
   "execution_count": 170,
   "id": "f0b91928",
   "metadata": {},
   "outputs": [
    {
     "name": "stdout",
     "output_type": "stream",
     "text": [
      "[[0.49999994+0.j 0.49999994+0.j]\n",
      " [0.49999994+0.j 0.49999994+0.j]]\n"
     ]
    }
   ],
   "source": [
    "# Reshape the density matrix into a 2x2x2x2x2x2 tensor where the first index is for qubit 0, the second for qubit 1, and the third for qubit 2\n",
    "reshaped_dm = final_density_matrix.reshape((2, 2, 2, 2, 2, 2))\n",
    "\n",
    "# Trace out qubits 2 and 3 by summing over their indices\n",
    "reduced_dm_q1 = np.einsum('jiklil->jk', reshaped_dm)\n",
    "\n",
    "print(reduced_dm_q1)"
   ]
  },
  {
   "cell_type": "code",
   "execution_count": null,
   "id": "c7e971aa",
   "metadata": {},
   "outputs": [],
   "source": []
  },
  {
   "cell_type": "code",
   "execution_count": null,
   "id": "1d50abea",
   "metadata": {},
   "outputs": [],
   "source": []
  },
  {
   "cell_type": "code",
   "execution_count": null,
   "id": "13e15f07",
   "metadata": {},
   "outputs": [],
   "source": []
  }
 ],
 "metadata": {
  "kernelspec": {
   "display_name": "Python 3 (ipykernel)",
   "language": "python",
   "name": "python3"
  },
  "language_info": {
   "codemirror_mode": {
    "name": "ipython",
    "version": 3
   },
   "file_extension": ".py",
   "mimetype": "text/x-python",
   "name": "python",
   "nbconvert_exporter": "python",
   "pygments_lexer": "ipython3",
   "version": "3.11.5"
  }
 },
 "nbformat": 4,
 "nbformat_minor": 5
}
